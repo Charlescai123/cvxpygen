{
 "cells": [
  {
   "cell_type": "markdown",
   "metadata": {},
   "source": [
    "## Resource Allocation Example\n",
    "\n",
    "Assume we have to assign resources of $m$ classes to $n$ kinds of jobs. This resource allocation is encoded in $X \\in \\mathbb{R}^{n \\times m}$, with $X_{i,j}$ denoting the amount of resource $j$ allocated to job $i$. Given the utility matrix $W \\in \\mathbb{R}^{n \\times m}$, we want to solve the optimization problem\n",
    "\n",
    "\\begin{equation}\n",
    "\\begin{array}{ll}\n",
    "\\text{maximize} \\quad &\\mathrm{tr} \\left( W^T X \\right)\\\\\n",
    "\\text{subject to} \\quad &X^\\mathrm{min} \\leq X \\leq X^\\mathrm{max} \\\\\n",
    "&X^T \\mathbb{1} \\leq r,\n",
    "\\end{array}\n",
    "\\end{equation}\n",
    "\n",
    "with variable $X \\in \\mathbb{R}^{n \\times m}$. The minimum and maximum amounts of resources to be allocated are denoted by $X^\\mathrm{min} \\geq 0$ and $X^\\mathrm{max} \\geq X^\\mathrm{min}$, respectively, while $r$ is the vector of available resources. The problem is feasible if $\\left(X^\\mathrm{min}\\right)^T \\mathbb{1} \\leq r$ and $X^\\mathrm{min} \\leq X^\\mathrm{max}$.\n",
    "\n",
    "Let's define the corresponding CVXPY problem."
   ]
  },
  {
   "cell_type": "code",
   "execution_count": 1,
   "metadata": {},
   "outputs": [],
   "source": [
    "import cvxpy as cp\n",
    "import numpy as np\n",
    "\n",
    "# define dimensions\n",
    "n, m = 100, 10\n",
    "\n",
    "# define variable\n",
    "X = cp.Variable((n, m), name='X')\n",
    "\n",
    "# define parameters\n",
    "W = cp.Parameter((n, m), name='W')\n",
    "X_min = cp.Parameter((n, m), name='X_min')\n",
    "X_max = cp.Parameter((n, m), name='X_max')\n",
    "r = cp.Parameter(m, name='r')\n",
    "\n",
    "# define objective\n",
    "objective = cp.Maximize(cp.trace(W.T@X))\n",
    "\n",
    "# define constraints\n",
    "constraints = [X_min <= X, X<= X_max, \n",
    "               X.T@np.ones(n) <= r]\n",
    "\n",
    "# define problem\n",
    "problem = cp.Problem(objective, constraints)"
   ]
  },
  {
   "cell_type": "markdown",
   "metadata": {},
   "source": [
    "Assign parameter values and solve the problem."
   ]
  },
  {
   "cell_type": "code",
   "execution_count": 2,
   "metadata": {},
   "outputs": [],
   "source": [
    "np.random.seed(0)\n",
    "\n",
    "W.value = np.ones((n, m)) + 0.1*np.random.rand(n, m)\n",
    "X_min.value = np.random.rand(n, m)\n",
    "X_max.value = 10 + np.random.rand(n, m)\n",
    "r.value = np.matmul(X_min.value.T, np.ones(n)) + 10*np.random.rand(m)\n",
    "\n",
    "val = problem.solve(solver='OSQP')"
   ]
  },
  {
   "cell_type": "markdown",
   "metadata": {},
   "source": [
    "Generating C source for the problem is as easy as:"
   ]
  },
  {
   "cell_type": "code",
   "execution_count": 3,
   "metadata": {},
   "outputs": [
    {
     "name": "stdout",
     "output_type": "stream",
     "text": [
      "Generating code ...\n",
      "-----------------------------------------------------------------\n",
      "           OSQP v0.6.2  -  Operator Splitting QP Solver\n",
      "              (c) Bartolomeo Stellato,  Goran Banjac\n",
      "        University of Oxford  -  Stanford University 2021\n",
      "-----------------------------------------------------------------\n",
      "problem:  variables n = 1000, constraints m = 2010\n",
      "          nnz(P) + nnz(A) = 3000\n",
      "settings: linear system solver = qdldl,\n",
      "          eps_abs = 1.0e-03, eps_rel = 1.0e-03,\n",
      "          eps_prim_inf = 1.0e-04, eps_dual_inf = 1.0e-04,\n",
      "          rho = 1.00e-01 (adaptive),\n",
      "          sigma = 1.00e-06, alpha = 1.60, max_iter = 4000\n",
      "          check_termination: on (interval 25),\n",
      "          scaling: on, scaled_termination: off\n",
      "          warm start: on, polish: off, time_limit: off\n",
      "\n",
      "Getting workspace from OSQP object... \t\t\t\t[done]\n",
      "Creating target directories... \t\t\t\t\t[done]\n",
      "Copying OSQP sources... \t\t\t\t\t[done]\n",
      "Generating customized code... \t\t\t\t\t[done]\n",
      "Creating project...\n",
      "-- The C compiler identification is AppleClang 12.0.5.12050022\n",
      "-- The CXX compiler identification is AppleClang 12.0.5.12050022\n",
      "-- Detecting C compiler ABI info\n",
      "-- Detecting C compiler ABI info - done\n",
      "-- Check for working C compiler: /Library/Developer/CommandLineTools/usr/bin/cc - skipped\n",
      "-- Detecting C compile features\n",
      "-- Detecting C compile features - done\n",
      "-- Detecting CXX compiler ABI info\n",
      "-- Detecting CXX compiler ABI info - done\n",
      "-- Check for working CXX compiler: /Library/Developer/CommandLineTools/usr/bin/c++ - skipped\n",
      "-- Detecting CXX compile features\n",
      "-- Detecting CXX compile features - done\n",
      "-- We are on a Darwin system\n",
      "-- Embedded is 2 -DDFLOAT:BOOL=OFF -DDLONG:BOOL=ON\n",
      "-- Passing EMBEDDED flag to compiler\n",
      "-- Disabling printing for embedded\n",
      "-- Printing is OFF\n",
      "-- Disabling profiling for embedded\n",
      "-- Profiling is OFF\n",
      "-- Floats are OFF\n",
      "-- Long integers (64bit) are ON\n",
      "-- Configuring done\n",
      "-- Generating done\n",
      "-- Build files have been written to: /Users/maximilianschaller/Documents/Stanford/codegen/examples/resource_code/c/OSQP_code/build\n",
      "[done]\n",
      "Compiling Python wrapper... \t\t\t\t\t[done]\n",
      "Copying code-generated Python solver to current directory... \t[done]\n",
      "Compiling CPG Python wrapper... \t\t\t\t\t-- The C compiler identification is AppleClang 12.0.5.12050022\n",
      "-- The CXX compiler identification is AppleClang 12.0.5.12050022\n",
      "-- Detecting C compiler ABI info\n",
      "-- Detecting C compiler ABI info - done\n",
      "-- Check for working C compiler: /Library/Developer/CommandLineTools/usr/bin/cc - skipped\n",
      "-- Detecting C compile features\n",
      "-- Detecting C compile features - done\n",
      "-- Detecting CXX compiler ABI info\n",
      "-- Detecting CXX compiler ABI info - done\n",
      "-- Check for working CXX compiler: /Library/Developer/CommandLineTools/usr/bin/c++ - skipped\n",
      "-- Detecting CXX compile features\n",
      "-- Detecting CXX compile features - done\n",
      "-- We are on a Darwin system\n",
      "-- Embedded is 2\n",
      "-- Passing EMBEDDED flag to compiler\n",
      "-- Disabling printing for embedded\n",
      "-- Printing is OFF\n",
      "-- Disabling profiling for embedded\n",
      "-- Profiling is OFF\n",
      "-- Floats are OFF\n",
      "-- Long integers (64bit) are ON\n",
      "-- Configuring done\n",
      "-- Generating done\n",
      "-- Build files have been written to: /Users/maximilianschaller/Documents/Stanford/codegen/examples/resource_code/c/build\n",
      "Scanning dependencies of target cpg\n",
      "[  7%] Building C object CMakeFiles/cpg.dir/src/cpg_workspace.c.o\n",
      "[ 14%] Building C object CMakeFiles/cpg.dir/src/cpg_solve.c.o\n",
      "[ 21%] Building C object CMakeFiles/cpg.dir/OSQP_code/src/osqp/auxil.c.o\n",
      "[ 28%] Building C object CMakeFiles/cpg.dir/OSQP_code/src/osqp/error.c.o\n",
      "[ 35%] Building C object CMakeFiles/cpg.dir/OSQP_code/src/osqp/lin_alg.c.o\n",
      "[ 42%] Building C object CMakeFiles/cpg.dir/OSQP_code/src/osqp/osqp.c.o\n",
      "[ 50%] Building C object CMakeFiles/cpg.dir/OSQP_code/src/osqp/proj.c.o\n",
      "[ 57%] Building C object CMakeFiles/cpg.dir/OSQP_code/src/osqp/scaling.c.o\n",
      "[ 64%] Building C object CMakeFiles/cpg.dir/OSQP_code/src/osqp/util.c.o\n",
      "[ 71%] Building C object CMakeFiles/cpg.dir/OSQP_code/src/osqp/kkt.c.o\n",
      "[ 78%] Building C object CMakeFiles/cpg.dir/OSQP_code/src/osqp/workspace.c.o\n",
      "[ 85%] Building C object CMakeFiles/cpg.dir/OSQP_code/src/osqp/qdldl.c.o\n",
      "[ 92%] Building C object CMakeFiles/cpg.dir/OSQP_code/src/osqp/qdldl_interface.c.o\n",
      "[100%] Linking C static library out/libcpg.a\n",
      "[100%] Built target cpg\n",
      "CPG Code Generation Done.\n"
     ]
    },
    {
     "name": "stderr",
     "output_type": "stream",
     "text": [
      "ld: warning: object file (/Users/maximilianschaller/Documents/Stanford/codegen/examples/resource_code/c/build/out/libcpg.a(cpg_workspace.c.o)) was built for newer macOS version (11.0) than being linked (10.9)\n",
      "ld: warning: object file (/Users/maximilianschaller/Documents/Stanford/codegen/examples/resource_code/c/build/out/libcpg.a(cpg_solve.c.o)) was built for newer macOS version (11.0) than being linked (10.9)\n",
      "ld: warning: object file (/Users/maximilianschaller/Documents/Stanford/codegen/examples/resource_code/c/build/out/libcpg.a(osqp.c.o)) was built for newer macOS version (11.0) than being linked (10.9)\n",
      "ld: warning: object file (/Users/maximilianschaller/Documents/Stanford/codegen/examples/resource_code/c/build/out/libcpg.a(workspace.c.o)) was built for newer macOS version (11.0) than being linked (10.9)\n",
      "ld: warning: object file (/Users/maximilianschaller/Documents/Stanford/codegen/examples/resource_code/c/build/out/libcpg.a(error.c.o)) was built for newer macOS version (11.0) than being linked (10.9)\n",
      "ld: warning: object file (/Users/maximilianschaller/Documents/Stanford/codegen/examples/resource_code/c/build/out/libcpg.a(auxil.c.o)) was built for newer macOS version (11.0) than being linked (10.9)\n",
      "ld: warning: object file (/Users/maximilianschaller/Documents/Stanford/codegen/examples/resource_code/c/build/out/libcpg.a(lin_alg.c.o)) was built for newer macOS version (11.0) than being linked (10.9)\n",
      "ld: warning: object file (/Users/maximilianschaller/Documents/Stanford/codegen/examples/resource_code/c/build/out/libcpg.a(scaling.c.o)) was built for newer macOS version (11.0) than being linked (10.9)\n",
      "ld: warning: object file (/Users/maximilianschaller/Documents/Stanford/codegen/examples/resource_code/c/build/out/libcpg.a(qdldl_interface.c.o)) was built for newer macOS version (11.0) than being linked (10.9)\n",
      "ld: warning: object file (/Users/maximilianschaller/Documents/Stanford/codegen/examples/resource_code/c/build/out/libcpg.a(qdldl.c.o)) was built for newer macOS version (11.0) than being linked (10.9)\n",
      "ld: warning: object file (/Users/maximilianschaller/Documents/Stanford/codegen/examples/resource_code/c/build/out/libcpg.a(util.c.o)) was built for newer macOS version (11.0) than being linked (10.9)\n",
      "ld: warning: object file (/Users/maximilianschaller/Documents/Stanford/codegen/examples/resource_code/c/build/out/libcpg.a(proj.c.o)) was built for newer macOS version (11.0) than being linked (10.9)\n",
      "ld: warning: object file (/Users/maximilianschaller/Documents/Stanford/codegen/examples/resource_code/c/build/out/libcpg.a(kkt.c.o)) was built for newer macOS version (11.0) than being linked (10.9)\n"
     ]
    }
   ],
   "source": [
    "import sys\n",
    "sys.path.append('../')\n",
    "import cvxpygen as cpg\n",
    "\n",
    "cpg.generate_code(problem, code_dir='resource_code')"
   ]
  },
  {
   "cell_type": "markdown",
   "metadata": {},
   "source": [
    "Now, you can use a python wrapper around the generated code as a custom CVXPY solve method."
   ]
  },
  {
   "cell_type": "code",
   "execution_count": 6,
   "metadata": {},
   "outputs": [
    {
     "name": "stdout",
     "output_type": "stream",
     "text": [
      "\n",
      "Python solve time: 268.4500217437744 ms\n",
      "Python objective function value: 595.9131811632495\n",
      "\n",
      "C solve time: 4.148006439208984 ms\n",
      "C objective function value: 595.7180234574506\n"
     ]
    }
   ],
   "source": [
    "from resource_code.cpg_solver import cpg_solve\n",
    "import numpy as np\n",
    "import pickle\n",
    "import time\n",
    "\n",
    "# load the serialized problem formulation\n",
    "with open('resource_code/problem.pickle', 'rb') as f:\n",
    "    prob = pickle.load(f)\n",
    "\n",
    "# assign parameter values\n",
    "np.random.seed(0)\n",
    "prob.param_dict['W'].value = np.ones((n, m)) + 0.1*np.random.rand(n, m)\n",
    "prob.param_dict['X_min'].value = np.random.rand(n, m)\n",
    "prob.param_dict['X_max'].value = 10 + np.random.rand(n, m)\n",
    "prob.param_dict['r'].value = np.matmul(prob.param_dict['X_min'].value.T, np.ones(n)) + 10*np.random.rand(m)\n",
    "\n",
    "# solve problem conventionally\n",
    "t0 = time.time()\n",
    "# CVXPY chooses eps_abs=eps_rel=1e-5, max_iter=10000, polish=True by default,\n",
    "# however, we choose the OSQP default values here, as they are used for code generation as well\n",
    "val = prob.solve(solver='OSQP', eps_abs=1e-3, eps_rel=1e-3, max_iter=4000, polish=False)\n",
    "t1 = time.time()\n",
    "print('\\nPython solve time:', 1000*(t1-t0), 'ms')\n",
    "print('Python objective function value:', val)\n",
    "\n",
    "# solve problem with C code via python wrapper\n",
    "prob.register_solve('CPG', cpg_solve)\n",
    "t0 = time.time()\n",
    "val = prob.solve(method='CPG')\n",
    "t1 = time.time()\n",
    "print('\\nC solve time:', 1000*(t1-t0), 'ms')\n",
    "print('C objective function value:', val)"
   ]
  }
 ],
 "metadata": {
  "kernelspec": {
   "display_name": "test",
   "language": "python",
   "name": "test"
  },
  "language_info": {
   "codemirror_mode": {
    "name": "ipython",
    "version": 3
   },
   "file_extension": ".py",
   "mimetype": "text/x-python",
   "name": "python",
   "nbconvert_exporter": "python",
   "pygments_lexer": "ipython3",
   "version": "3.9.7"
  }
 },
 "nbformat": 4,
 "nbformat_minor": 4
}
