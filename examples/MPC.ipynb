{
 "cells": [
  {
   "cell_type": "markdown",
   "metadata": {},
   "source": [
    "## Model Predictive Control Example\n",
    "\n",
    "To determine the optimal control input $u \\in \\mathbb{R}^m$ applied to the linear time-invariant (LTI) system $\\left( A, B\\right) \\in \\left( \\mathbb{R}^{n \\times n}, \\mathbb{R}^{n \\times m} \\right)$ with state $x \\in \\mathbb{R}^n$, we solve the following optimization problem:\n",
    "\n",
    "\\begin{align}\n",
    "\\min_{\\{x^i, u^i\\}}. \\quad & \\Vert x^N \\Vert_P^2 + \\sum_{i=0}^{N-1} \\Vert x^i \\Vert_Q^2 + \\Vert u^i \\Vert_R^2\\\\\n",
    "\\text{s.t.} \\quad &x^{i+1} = A x^i + B u^i \\quad \\forall i \\in \\{0, ..., N-1\\} \\\\\n",
    "& \\Vert u^i \\Vert_\\infty \\leq u^\\mathrm{max} \\quad \\forall i \\in \\{0, ..., N-1\\} \\\\\n",
    "\\end{align}\n",
    "\n",
    "The prediction horizon is $N$, the control input is constrained within a box of size $u^\\mathrm{max}$ and the cost matrices are positive definite: $P, Q, R \\in \\mathbb{S}_{++}^n, \\mathbb{S}_{++}^n, \\mathbb{S}_{++}^m$. Usually, $P$ is chosen as the solution to the discrete-time algebraic Riccati equation for the given LTI system and cost matrices $Q, R$.\n",
    "\n",
    "Let's define the corresponding CVXPY problem:"
   ]
  },
  {
   "cell_type": "code",
   "execution_count": 1,
   "metadata": {},
   "outputs": [],
   "source": [
    "import cvxpy as cp\n",
    "\n",
    "# define dimensions\n",
    "N, n, m = 10, 3, 2\n",
    "\n",
    "# define variables\n",
    "u = []\n",
    "x = []\n",
    "for i in range(N-1):\n",
    "    u.append(cp.Variable(m, name='u_%d' % i))\n",
    "    x.append(cp.Variable(n, name='x_%d' % i))\n",
    "x.append(cp.Variable(n, name='x_%d' % N))\n",
    "\n",
    "# define parameters\n",
    "P = cp.Parameter((n, n), PSD=True, name='P')\n",
    "Q = cp.Parameter((n, n), PSD=True, name='Q')\n",
    "R = cp.Parameter((m, m), PSD=True, name='R')\n",
    "A = cp.Parameter((n, n), name='A')\n",
    "B = cp.Parameter((n, m), name='B')\n",
    "u_max = cp.Parameter(name='u_max')\n",
    "\n",
    "# define objective\n",
    "obj_func = cp.quad_form(x[len(x)-1], P)\n",
    "for i in range(N-1):\n",
    "    obj_func += (cp.quad_form(x[i], Q) + cp.quad_form(u[i], R))\n",
    "objective = cp.Minimize(obj_func)\n",
    "\n",
    "# define constraints\n",
    "constraints = []\n",
    "for i in range(N-1):\n",
    "    constraints.append(x[i+1] == A@x[i] + B@u[i])\n",
    "    constraints.append(cp.norm(u[i], 'inf') <= u_max)\n",
    "\n",
    "# define problem\n",
    "problem = cp.Problem(objective, constraints)"
   ]
  },
  {
   "cell_type": "markdown",
   "metadata": {},
   "source": [
    "Assign parameter values and solve the problem."
   ]
  },
  {
   "cell_type": "code",
   "execution_count": null,
   "metadata": {},
   "outputs": [],
   "source": [
    "# TODO\n",
    "\n",
    "val = problem.solve()"
   ]
  },
  {
   "cell_type": "markdown",
   "metadata": {},
   "source": [
    "Generating C source for the problem is as easy as:"
   ]
  },
  {
   "cell_type": "code",
   "execution_count": null,
   "metadata": {},
   "outputs": [],
   "source": [
    "import sys\n",
    "sys.path.append('../')\n",
    "import cvxpygen as cpg\n",
    "\n",
    "cpg.generate_code(problem, code_dir='MPC_code')"
   ]
  },
  {
   "cell_type": "markdown",
   "metadata": {},
   "source": [
    "Now, you can use a python wrapper around the generated code as a custom CVXPY solve method:"
   ]
  },
  {
   "cell_type": "code",
   "execution_count": null,
   "metadata": {},
   "outputs": [],
   "source": [
    "from MPC_code.cpg_solver import cpg_solve\n",
    "import numpy as np\n",
    "import pickle\n",
    "import time\n",
    "\n",
    "# load the serialized problem formulation\n",
    "with open('MPC_code/problem.pickle', 'rb') as f:\n",
    "    prob = pickle.load(f)\n",
    "\n",
    "# assign parameter values\n",
    "# TODO\n",
    "\n",
    "# solve problem conventionally\n",
    "t0 = time.time()\n",
    "# CVXPY chooses eps_abs=eps_rel=1e-5, max_iter=10000, polish=True by default,\n",
    "# however, we choose the OSQP default values here, as they are used for code generation as well\n",
    "val = prob.solve(eps_abs=1e-3, eps_rel=1e-3, max_iter=4000, polish=False)\n",
    "t1 = time.time()\n",
    "print('\\nPython solve time:', 1000*(t1-t0), 'ms')\n",
    "print('Python objective function value:', val)\n",
    "\n",
    "# solve problem with C code via python wrapper\n",
    "prob.register_solve('CPG', cpg_solve)\n",
    "t0 = time.time()\n",
    "val = prob.solve(method='CPG')\n",
    "t1 = time.time()\n",
    "print('\\nC solve time:', 1000*(t1-t0), 'ms')\n",
    "print('C objective function value:', val)"
   ]
  }
 ],
 "metadata": {
  "kernelspec": {
   "display_name": "test",
   "language": "python",
   "name": "test"
  },
  "language_info": {
   "codemirror_mode": {
    "name": "ipython",
    "version": 3
   },
   "file_extension": ".py",
   "mimetype": "text/x-python",
   "name": "python",
   "nbconvert_exporter": "python",
   "pygments_lexer": "ipython3",
   "version": "3.9.7"
  }
 },
 "nbformat": 4,
 "nbformat_minor": 4
}
