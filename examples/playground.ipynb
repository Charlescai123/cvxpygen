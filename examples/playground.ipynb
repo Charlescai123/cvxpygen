{
 "cells": [
  {
   "cell_type": "code",
   "execution_count": 1,
   "id": "bf69683a",
   "metadata": {},
   "outputs": [
    {
     "data": {
      "text/plain": [
       "0.0"
      ]
     },
     "execution_count": 1,
     "metadata": {},
     "output_type": "execute_result"
    }
   ],
   "source": [
    "import cvxpy as cp\n",
    "\n",
    "x = cp.Variable()\n",
    "\n",
    "prob = cp.Problem(cp.Minimize(cp.maximum(0, x)), [])\n",
    "\n",
    "prob.solve()"
   ]
  },
  {
   "cell_type": "code",
   "execution_count": 25,
   "id": "4d050a6b",
   "metadata": {},
   "outputs": [],
   "source": [
    "import cvxpy as cp\n",
    "import numpy as np\n",
    "\n",
    "# define dimensions\n",
    "n, m = 100, 10\n",
    "\n",
    "# define variables\n",
    "w = cp.Variable(n, name='w')\n",
    "w_change = cp.Variable(n, name='w_change')\n",
    "f = cp.Variable(m, name='f')\n",
    "\n",
    "# define parameters\n",
    "a = cp.Parameter(n, name='a')\n",
    "Ft = cp.Parameter((n, m), name='Ft')\n",
    "Dt = cp.Parameter((n, n), diag=True, name='Dt')\n",
    "k_tc = cp.Parameter(n, nonneg=True, name='k_tc')\n",
    "k_sh = cp.Parameter(n, nonneg=True, name='k_sh')\n",
    "w_prev = cp.Parameter(n, name='w_prev')\n",
    "L = cp.Parameter(nonneg=True, name='L')\n",
    "\n",
    "# define objective\n",
    "objective = cp.Maximize(a@w\n",
    "                        -cp.sum_squares(f)\n",
    "                        -cp.sum_squares(Dt@w)\n",
    "                        -k_tc@cp.abs(w_change)\n",
    "                        +k_sh@cp.minimum(0, w))\n",
    "\n",
    "# define constraints\n",
    "constraints = [f == Ft.T@w, np.ones(n)@w == 1, \n",
    "               cp.norm(w, 1) <= L, w_change == w-w_prev]\n",
    "\n",
    "# define problem\n",
    "problem = cp.Problem(objective, constraints)\n",
    "\n",
    "np.random.seed(0)\n",
    "gamma = 10\n",
    "alpha = 1000*(-1+2*np.random.rand(n))\n",
    "kappa_tc = 10*np.ones(n)\n",
    "kappa_sh = 20*np.ones(n)\n",
    "\n",
    "a.value = alpha/gamma\n",
    "Ft.value = np.random.randn(n, m)\n",
    "Dt.value = np.diag(np.ones(n))\n",
    "k_tc.value = kappa_tc/gamma\n",
    "k_sh.value = kappa_sh/gamma\n",
    "w_prev.value = np.zeros(n)\n",
    "L.value = 1.6\n",
    "\n",
    "val = problem.solve()"
   ]
  },
  {
   "cell_type": "code",
   "execution_count": 26,
   "id": "46a95fd5",
   "metadata": {},
   "outputs": [
    {
     "data": {
      "text/plain": [
       "True"
      ]
     },
     "execution_count": 26,
     "metadata": {},
     "output_type": "execute_result"
    }
   ],
   "source": [
    "problem.is_dcp(dpp=True)"
   ]
  },
  {
   "cell_type": "code",
   "execution_count": 16,
   "id": "986ca9ce",
   "metadata": {},
   "outputs": [
    {
     "data": {
      "text/plain": [
       "True"
      ]
     },
     "execution_count": 16,
     "metadata": {},
     "output_type": "execute_result"
    }
   ],
   "source": [
    "import cvxpy as cp\n",
    "\n",
    "x = cp.Variable(3)\n",
    "P = cp.Parameter((3,3))\n",
    "\n",
    "prob = cp.Problem(cp.Minimize(cp.sum_squares(P@x)), [])\n",
    "\n",
    "prob.is_dcp(dpp=True)"
   ]
  },
  {
   "cell_type": "code",
   "execution_count": 29,
   "id": "7564f9e9",
   "metadata": {},
   "outputs": [
    {
     "data": {
      "text/plain": [
       "False"
      ]
     },
     "execution_count": 29,
     "metadata": {},
     "output_type": "execute_result"
    }
   ],
   "source": [
    "import cvxpy as cp\n",
    "\n",
    "x = cp.Variable(3)\n",
    "a = cp.Parameter(3)\n",
    "b = cp.Parameter(3, nonneg=True)\n",
    "c = cp.Parameter()\n",
    "\n",
    "prob = cp.Problem(cp.Minimize(b@cp.abs(x-a)), [])\n",
    "\n",
    "prob.is_dcp(dpp=True)"
   ]
  },
  {
   "cell_type": "code",
   "execution_count": null,
   "id": "87600c08",
   "metadata": {},
   "outputs": [],
   "source": []
  }
 ],
 "metadata": {
  "kernelspec": {
   "display_name": "test",
   "language": "python",
   "name": "test"
  },
  "language_info": {
   "codemirror_mode": {
    "name": "ipython",
    "version": 3
   },
   "file_extension": ".py",
   "mimetype": "text/x-python",
   "name": "python",
   "nbconvert_exporter": "python",
   "pygments_lexer": "ipython3",
   "version": "3.9.7"
  }
 },
 "nbformat": 4,
 "nbformat_minor": 5
}
