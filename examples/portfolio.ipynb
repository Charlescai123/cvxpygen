{
 "cells": [
  {
   "cell_type": "markdown",
   "metadata": {},
   "source": [
    "## Portfolio Optimization Example\n",
    "\n",
    "Consider the following optimization problem over the portfolio $w\\in \\mathbb{R}^n$ with expected return $\\alpha^\\intercal w$, risk aversion factor $\\gamma$, asset covariance matrix $\\Sigma$, and transaction (short-selling) cost $\\kappa_\\mathrm{tc(sh)}$:\n",
    "\n",
    "\\begin{align}\n",
    "\\max_{w}. \\quad &\\alpha^\\intercal w - \\gamma w^\\intercal \\Sigma w - \\kappa_\\mathrm{tc}^\\intercal |w-w^\\mathrm{prev}| + \\kappa_\\mathrm{sh}^\\intercal (w)_- \\\\\n",
    "\\text{s.t.} \\quad &\\mathbb{1}^\\intercal w = 1 \\\\\n",
    "&\\Vert w \\Vert_1 \\leq L\n",
    "\\end{align}\n",
    "\n",
    "The previous portfolio is denoted by $w^\\mathrm{prev}$, $(\\cdot)_-$ represents the argument's negative part, and $L$ is the maximum amount of positions.\n",
    "\n",
    "With $\\Sigma = F \\Sigma^f F^\\intercal + D$, we can rewrite the problem as,\n",
    "\n",
    "\\begin{align}\n",
    "\\max_{w, f, t_\\mathrm{tc}, t_\\mathrm{sh}}. \\quad &a^\\intercal w - \\Vert f \\Vert_2^2 - \\Vert \\tilde{D} w\\Vert_2^2 - k_\\mathrm{tc}^\\intercal t_\\mathrm{tc} + k_\\mathrm{sh}^\\intercal t_\\mathrm{sh} \\\\\n",
    "\\text{s.t.} \\quad &f = \\tilde{F}^\\intercal w \\\\\n",
    "&\\mathbb{1}^\\intercal w = 1 \\\\\n",
    "&\\Vert w \\Vert_1 \\leq L \\\\\n",
    "&|w-w^\\mathrm{prev}| \\leq t_\\mathrm{tc} \\\\\n",
    "&(w)_- \\geq t_\\mathrm{sh} \n",
    "\\end{align}\n",
    "\n",
    "parameterized by:\n",
    "\n",
    "\\begin{align}\n",
    "a &= \\frac{\\alpha}{\\gamma} \\\\\n",
    "\\tilde{F} &= F \\left( \\Sigma^f\\right)^{1/2} \\\\\n",
    "\\tilde{D} &= D^{1/2} \\\\\n",
    "k_\\mathrm{tc} &= \\frac{\\kappa_\\mathrm{tc}}{\\gamma} \\\\\n",
    "k_\\mathrm{sh} &= \\frac{\\kappa_\\mathrm{sh}}{\\gamma} \\\\\n",
    "&w^\\mathrm{prev} \\\\\n",
    "&L\n",
    "\\end{align}\n",
    "\n",
    "Let's define the corresponding CVXPY problem:"
   ]
  },
  {
   "cell_type": "code",
   "execution_count": null,
   "metadata": {},
   "outputs": [],
   "source": [
    "import cvxpy as cp\n",
    "import numpy as np\n",
    "\n",
    "# define dimensions\n",
    "n, m = 100, 10\n",
    "\n",
    "# define variables\n",
    "w = cp.Variable(n, name='w')\n",
    "f = cp.Variable(m, name='f')\n",
    "t_tc = cp.Variable(n, name='t_tc')\n",
    "t_sh = cp.Variable(n, name='t_sh')\n",
    "\n",
    "# define parameters\n",
    "a = cp.Parameter(n, name='a')\n",
    "Ft = cp.Parameter((n, m), name='Ft')\n",
    "Dt = cp.Parameter((n, n), diag=True, name='Dt')\n",
    "k_tc = cp.Parameter(n, name='k_tc')\n",
    "k_sh = cp.Parameter(n, name='k_sh')\n",
    "w_prev = cp.Parameter(n, name='w_prev')\n",
    "L = cp.Parameter(nonneg=True, name='L')\n",
    "\n",
    "# define objective\n",
    "objective = cp.Maximize(a@w\n",
    "                        -cp.sum_squares(f)\n",
    "                        -cp.sum_squares(Dt@w)\n",
    "                        -k_tc@t_tc\n",
    "                        +k_sh@t_sh)\n",
    "\n",
    "# define constraints\n",
    "constraints = [f == Ft.T@w, np.ones(n)@w == 1, \n",
    "               cp.norm(w, 1) <= L, \n",
    "               cp.abs(w-w_prev)<=t_tc, \n",
    "               t_sh<=cp.minimum(0, w)]\n",
    "\n",
    "# define problem\n",
    "problem = cp.Problem(objective, constraints)"
   ]
  },
  {
   "cell_type": "markdown",
   "metadata": {},
   "source": [
    "Assign parameter values and solve the problem."
   ]
  },
  {
   "cell_type": "code",
   "execution_count": null,
   "metadata": {},
   "outputs": [],
   "source": [
    "np.random.seed(0)\n",
    "gamma = 10\n",
    "alpha = 1000*(-1+2*np.random.rand(n))\n",
    "kappa_tc = 10*np.ones(n)\n",
    "kappa_sh = 20*np.ones(n)\n",
    "\n",
    "a.value = alpha/gamma\n",
    "Ft.value = np.random.randn(n, m)\n",
    "Dt.value = np.diag(np.ones(n))\n",
    "k_tc.value = kappa_tc/gamma\n",
    "k_sh.value = kappa_sh/gamma\n",
    "w_prev.value = np.zeros(n)\n",
    "L.value = 1.6\n",
    "\n",
    "val = problem.solve()"
   ]
  },
  {
   "cell_type": "markdown",
   "metadata": {},
   "source": [
    "Generating C source for the problem is as easy as:"
   ]
  },
  {
   "cell_type": "code",
   "execution_count": null,
   "metadata": {},
   "outputs": [],
   "source": [
    "import sys\n",
    "sys.path.append('../')\n",
    "import cvxpygen as cpg\n",
    "\n",
    "cpg.generate_code(problem, code_dir='portfolio_code')"
   ]
  },
  {
   "cell_type": "markdown",
   "metadata": {},
   "source": [
    "Now, you can use a python wrapper around the generated code as a custom CVXPY solve method:"
   ]
  },
  {
   "cell_type": "code",
   "execution_count": null,
   "metadata": {},
   "outputs": [],
   "source": [
    "from portfolio_code.cpg_solver import cpg_solve\n",
    "import numpy as np\n",
    "import pickle\n",
    "import time\n",
    "\n",
    "# load the serialized problem formulation\n",
    "with open('portfolio_code/problem.pickle', 'rb') as f:\n",
    "    prob = pickle.load(f)\n",
    "\n",
    "# assign parameter values\n",
    "np.random.seed(0)\n",
    "prob.param_dict['a'].value = alpha/gamma\n",
    "prob.param_dict['Ft'].value = np.random.randn(n, m)\n",
    "prob.param_dict['Dt'].value = np.diag(np.ones(n))\n",
    "prob.param_dict['k_tc'].value = kappa_tc/gamma\n",
    "prob.param_dict['k_sh'].value = kappa_sh/gamma\n",
    "prob.param_dict['w_prev'].value = np.zeros(n)\n",
    "prob.param_dict['L'].value = 1.6\n",
    "\n",
    "# solve problem conventionally\n",
    "t0 = time.time()\n",
    "# CVXPY chooses eps_abs=eps_rel=1e-5, max_iter=10000, polish=True by default,\n",
    "# however, we choose the OSQP default values here, as they are used for code generation as well\n",
    "val = prob.solve(eps_abs=1e-3, eps_rel=1e-3, max_iter=4000, polish=False)\n",
    "t1 = time.time()\n",
    "print('\\nPython solve time:', 1000*(t1-t0), 'ms')\n",
    "print('Python objective function value:', val)\n",
    "\n",
    "# solve problem with C code via python wrapper\n",
    "prob.register_solve('CPG', cpg_solve)\n",
    "t0 = time.time()\n",
    "val = prob.solve(method='CPG')\n",
    "t1 = time.time()\n",
    "print('\\nC solve time:', 1000*(t1-t0), 'ms')\n",
    "print('C objective function value:', val)"
   ]
  }
 ],
 "metadata": {
  "kernelspec": {
   "display_name": "test",
   "language": "python",
   "name": "test"
  },
  "language_info": {
   "codemirror_mode": {
    "name": "ipython",
    "version": 3
   },
   "file_extension": ".py",
   "mimetype": "text/x-python",
   "name": "python",
   "nbconvert_exporter": "python",
   "pygments_lexer": "ipython3",
   "version": "3.9.7"
  }
 },
 "nbformat": 4,
 "nbformat_minor": 4
}
