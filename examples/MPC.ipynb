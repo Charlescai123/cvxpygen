{
 "cells": [
  {
   "cell_type": "markdown",
   "metadata": {},
   "source": [
    "## Model Predictive Control Example\n",
    "\n",
    "To determine the optimal control input $u \\in \\mathbb{R}^m$ applied to the linear time-invariant (LTI) system $\\left( A, B\\right) \\in \\left( \\mathbb{R}^{n \\times n}, \\mathbb{R}^{n \\times m} \\right)$ with state $x \\in \\mathbb{R}^n$, we solve the following optimization problem:\n",
    "\n",
    "$\n",
    "\\begin{array}{II}\n",
    "\\text{minimize} \\quad & x_H^T P x_H + \\sum_{i=0}^{H-1} x_i^T Q x_i + u_i^T R u_i\\\\\n",
    "\\text{subject to} \\quad &x_{i+1} = A x_i + B u_i \\quad \\forall i \\in \\{0, ..., H-1\\} \\\\\n",
    "& \\Vert u_i \\Vert_\\infty \\leq 1 \\quad \\forall i \\in \\{0, ..., H-1\\} \\\\\n",
    "& x_0 = x_\\mathrm{init} \\\\\n",
    "\\end{array}\n",
    "$\n",
    "\n",
    "The prediction horizon is $H$, the control input is constrained within a box of size $u^\\mathrm{max}$ and the cost matrices are positive definite: $P, Q, R \\in \\mathbb{S}_{++}^n, \\mathbb{S}_{++}^n, \\mathbb{S}_{++}^m$. Usually, $P$ is chosen as the solution to the discrete-time algebraic Riccati equation for the given LTI system and cost matrices $Q, R$. The initial measured state is $x_\\mathrm{init}$. We arrange to state and input variables to matrices $X$ and $U$ with $X_{:,i} = x_i$ and $U_{:,i} = u_i$, respectively, and reformulate the problem to be [DPP-compliant](https://www.cvxpy.org/tutorial/advanced/index.html#disciplined-parametrized-programming):\n",
    "\n",
    "\\begin{equation}\n",
    "\\begin{array}{II}\n",
    "\\text{minimize} \\quad & \\Vert P^{1/2} X_{:,H} \\Vert_2^2 + \\Vert Q^{1/2} X_{:,0:H-1} \\Vert_F^2 + \\Vert R^{1/2} U \\Vert_F^2\\\\\n",
    "\\text{subject to} \\quad &X_{:,1:H} = A X_{:,0:H-1} + B U \\\\\n",
    "& | U | \\leq 1 \\\\\n",
    "& X_{:,0} = x_\\mathrm{init} \\\\\n",
    "\\end{array}\n",
    "\\end{equation}\n",
    "\n",
    "Let's define the corresponding CVXPY problem:"
   ]
  },
  {
   "cell_type": "code",
   "execution_count": 5,
   "metadata": {},
   "outputs": [],
   "source": [
    "import cvxpy as cp\n",
    "\n",
    "# define dimensions\n",
    "H, n, m = 10, 3, 2\n",
    "\n",
    "# define variables\n",
    "U = cp.Variable((m, H), name='U')\n",
    "X = cp.Variable((n, H+1), name='X')\n",
    "\n",
    "# define parameters\n",
    "Psqrt = cp.Parameter((n, n), name='Psqrt')\n",
    "Qsqrt = cp.Parameter((n, n), name='Qsqrt')\n",
    "Rsqrt = cp.Parameter((m, m), name='Rsqrt')\n",
    "A = cp.Parameter((n, n), name='A')\n",
    "B = cp.Parameter((n, m), name='B')\n",
    "x_init = cp.Parameter(n, name='x_init')\n",
    "\n",
    "# define objective\n",
    "obj_func = cp.sum_squares(Psqrt@X[:,H-1]) + cp.sum_squares(Qsqrt@X[:,0:H-1]) + cp.sum_squares(Rsqrt@U)\n",
    "\n",
    "# define constraints\n",
    "constraints = [X[:,1:] == A@X[:,:H]+B@U,\n",
    "               cp.abs(U) <= 1,\n",
    "               X[:,0] == x_init]\n",
    "\n",
    "# define problem\n",
    "problem = cp.Problem(objective, constraints)"
   ]
  },
  {
   "cell_type": "markdown",
   "metadata": {},
   "source": [
    "Assign parameter values and solve the problem."
   ]
  },
  {
   "cell_type": "code",
   "execution_count": null,
   "metadata": {},
   "outputs": [],
   "source": [
    "# TODO\n",
    "\n",
    "val = problem.solve()"
   ]
  },
  {
   "cell_type": "markdown",
   "metadata": {},
   "source": [
    "Generating C source for the problem is as easy as:"
   ]
  },
  {
   "cell_type": "code",
   "execution_count": null,
   "metadata": {},
   "outputs": [],
   "source": [
    "import sys\n",
    "sys.path.append('../')\n",
    "import cvxpygen as cpg\n",
    "\n",
    "cpg.generate_code(problem, code_dir='MPC_code')"
   ]
  },
  {
   "cell_type": "markdown",
   "metadata": {},
   "source": [
    "Now, you can use a python wrapper around the generated code as a custom CVXPY solve method:"
   ]
  },
  {
   "cell_type": "code",
   "execution_count": null,
   "metadata": {},
   "outputs": [],
   "source": [
    "from MPC_code.cpg_solver import cpg_solve\n",
    "import numpy as np\n",
    "import pickle\n",
    "import time\n",
    "\n",
    "# load the serialized problem formulation\n",
    "with open('MPC_code/problem.pickle', 'rb') as f:\n",
    "    prob = pickle.load(f)\n",
    "\n",
    "# assign parameter values\n",
    "# TODO\n",
    "\n",
    "# solve problem conventionally\n",
    "t0 = time.time()\n",
    "# CVXPY chooses eps_abs=eps_rel=1e-5, max_iter=10000, polish=True by default,\n",
    "# however, we choose the OSQP default values here, as they are used for code generation as well\n",
    "val = prob.solve(eps_abs=1e-3, eps_rel=1e-3, max_iter=4000, polish=False)\n",
    "t1 = time.time()\n",
    "print('\\nPython solve time:', 1000*(t1-t0), 'ms')\n",
    "print('Python objective function value:', val)\n",
    "\n",
    "# solve problem with C code via python wrapper\n",
    "prob.register_solve('CPG', cpg_solve)\n",
    "t0 = time.time()\n",
    "val = prob.solve(method='CPG')\n",
    "t1 = time.time()\n",
    "print('\\nC solve time:', 1000*(t1-t0), 'ms')\n",
    "print('C objective function value:', val)"
   ]
  }
 ],
 "metadata": {
  "kernelspec": {
   "display_name": "test",
   "language": "python",
   "name": "test"
  },
  "language_info": {
   "codemirror_mode": {
    "name": "ipython",
    "version": 3
   },
   "file_extension": ".py",
   "mimetype": "text/x-python",
   "name": "python",
   "nbconvert_exporter": "python",
   "pygments_lexer": "ipython3",
   "version": "3.9.7"
  }
 },
 "nbformat": 4,
 "nbformat_minor": 4
}
