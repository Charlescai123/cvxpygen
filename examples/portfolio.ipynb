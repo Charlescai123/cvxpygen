{
 "cells": [
  {
   "cell_type": "markdown",
   "metadata": {},
   "source": [
    "## Portfolio Optimization Example\n",
    "\n",
    "Consider the following optimization problem over the portfolio $w\\in \\mathbb{R}^n$. The return $r$ has expected value $\\alpha$ and covariance $\\Sigma \\in \\mathbb{S}_{++}^n$. The risk aversion factor is denoted by $\\gamma \\geq 0$, and transaction (short-selling) cost is denoted by $\\kappa_\\mathrm{tc(sh)} \\geq 0$:\n",
    "\n",
    "\\begin{equation}\n",
    "\\begin{array}{ll}\n",
    "\\text{maximize} \\quad &\\alpha^T w - \\gamma w^T \\Sigma w - \\kappa_\\mathrm{tc}^T |w-w^\\mathrm{prev}| + \\kappa_\\mathrm{sh}^T (w)_- \\\\\n",
    "\\text{subject to} \\quad &\\mathbb{1}^T w = 1 \\\\\n",
    "&\\Vert w \\Vert_1 \\leq L\n",
    "\\end{array}\n",
    "\\end{equation}\n",
    "\n",
    "The previous portfolio is $w^\\mathrm{prev}$, $(\\cdot)_-$ represents the argument's negative part, and $L \\geq 1$ is the maximum value of total long positions plus the total magnitude of short positions.\n",
    "\n",
    "With the factor model $\\Sigma = F \\Sigma^f F^T + D$ \\[1\\], we can rewrite an equivalent and [DPP-compliant](https://www.cvxpy.org/tutorial/advanced/index.html#disciplined-parametrized-programming) problem:\n",
    "\n",
    "\\begin{equation}\n",
    "\\begin{array}{ll}\n",
    "\\text{maximize} \\quad &a^T w - \\Vert \\left(\\Sigma^f\\right)^{1/2} f \\Vert_2^2 - \\Vert D^{1/2} w\\Vert_2^2 - k_\\mathrm{tc}^T |\\Delta w| + k_\\mathrm{sh}^T (w)_- \\\\\n",
    "\\text{subject to} &f = F^T w \\\\\n",
    "&\\mathbb{1}^T w = 1 \\\\\n",
    "&\\Vert w \\Vert_1 \\leq L \\\\\n",
    "&\\Delta w = w-w^\\mathrm{prev} \\\\\n",
    "\\end{array}\n",
    "\\end{equation}\n",
    "\n",
    "parameterized by:\n",
    "\n",
    "\\begin{equation}\n",
    "\\begin{array}{ll}\n",
    "a = \\frac{\\alpha}{\\gamma} \\\\\n",
    "F \\\\\n",
    "\\left(\\Sigma^f\\right)^{1/2} \\\\\n",
    "D^{1/2} \\\\\n",
    "k_\\mathrm{tc} = \\frac{\\kappa_\\mathrm{tc}}{\\gamma} \\\\\n",
    "k_\\mathrm{sh} = \\frac{\\kappa_\\mathrm{sh}}{\\gamma} \\\\\n",
    "w^\\mathrm{prev} \\\\\n",
    "L\n",
    "\\end{array}\n",
    "\\end{equation}\n",
    "\n",
    "Note that we divided the objective function by the risk aversion factor $\\gamma$. This way, updating the value of $\\gamma$ only affects the linear part of the objective function, avoiding to compute a matrix factorization when solving the problem repeatedly.\n",
    "\n",
    "Let's define the corresponding CVXPY problem:"
   ]
  },
  {
   "cell_type": "code",
   "execution_count": 7,
   "metadata": {},
   "outputs": [],
   "source": [
    "import cvxpy as cp\n",
    "import numpy as np\n",
    "\n",
    "# define dimensions\n",
    "n, m = 100, 10\n",
    "\n",
    "# define variables\n",
    "w = cp.Variable(n, name='w')\n",
    "delta_w = cp.Variable(n, name='delta_w')\n",
    "f = cp.Variable(m, name='f')\n",
    "\n",
    "# define parameters\n",
    "a = cp.Parameter(n, name='a')\n",
    "F = cp.Parameter((n, m), name='F')\n",
    "Sig_f_sqrt = cp.Parameter((m, m), name='Sig_f_sqrt')\n",
    "D_sqrt = cp.Parameter((n, n), diag=True, name='D_sqrt')\n",
    "k_tc = cp.Parameter(n, nonneg=True, name='k_tc')\n",
    "k_sh = cp.Parameter(n, nonneg=True, name='k_sh')\n",
    "w_prev = cp.Parameter(n, name='w_prev')\n",
    "L = cp.Parameter(nonneg=True, name='L')\n",
    "\n",
    "# define objective\n",
    "objective = cp.Maximize(a@w\n",
    "                        -cp.sum_squares(Sig_f_sqrt@f)\n",
    "                        -cp.sum_squares(D_sqrt@w)\n",
    "                        -k_tc@cp.abs(delta_w)\n",
    "                        +k_sh@cp.minimum(0, w))\n",
    "\n",
    "# define constraints\n",
    "constraints = [f == F.T@w,\n",
    "               np.ones(n)@w == 1, \n",
    "               cp.norm(w, 1) <= L, \n",
    "               delta_w == w-w_prev]\n",
    "\n",
    "# define problem\n",
    "problem = cp.Problem(objective, constraints)"
   ]
  },
  {
   "cell_type": "markdown",
   "metadata": {},
   "source": [
    "Assign parameter values and solve the problem."
   ]
  },
  {
   "cell_type": "code",
   "execution_count": null,
   "metadata": {},
   "outputs": [],
   "source": [
    "np.random.seed(0)\n",
    "gamma = 10\n",
    "alpha = 1000*(-1+2*np.random.rand(n))\n",
    "kappa_tc = 10*np.ones(n)\n",
    "kappa_sh = 20*np.ones(n)\n",
    "\n",
    "a.value = alpha/gamma\n",
    "F.value = np.random.randn(n, m)\n",
    "Sig_f_sqrt.value = np.diag(np.ones(m))\n",
    "D_sqrt.value = np.diag(np.ones(n))\n",
    "k_tc.value = kappa_tc/gamma\n",
    "k_sh.value = kappa_sh/gamma\n",
    "w_prev.value = np.zeros(n)\n",
    "L.value = 1.6\n",
    "\n",
    "val = problem.solve()"
   ]
  },
  {
   "cell_type": "markdown",
   "metadata": {},
   "source": [
    "Generating C source for the problem is as easy as:"
   ]
  },
  {
   "cell_type": "code",
   "execution_count": null,
   "metadata": {},
   "outputs": [],
   "source": [
    "import sys\n",
    "sys.path.append('../')\n",
    "import cvxpygen as cpg\n",
    "\n",
    "cpg.generate_code(problem, code_dir='portfolio_code')"
   ]
  },
  {
   "cell_type": "markdown",
   "metadata": {},
   "source": [
    "Now, you can use a python wrapper around the generated code as a custom CVXPY solve method:"
   ]
  },
  {
   "cell_type": "code",
   "execution_count": null,
   "metadata": {},
   "outputs": [],
   "source": [
    "from portfolio_code.cpg_solver import cpg_solve\n",
    "import numpy as np\n",
    "import pickle\n",
    "import time\n",
    "\n",
    "# load the serialized problem formulation\n",
    "with open('portfolio_code/problem.pickle', 'rb') as f:\n",
    "    prob = pickle.load(f)\n",
    "\n",
    "# assign parameter values\n",
    "np.random.seed(0)\n",
    "prob.param_dict['a'].value = alpha/gamma\n",
    "prob.param_dict['F'].value = np.random.randn(n, m)\n",
    "prob.param_dict['Sig_f_sqrt'].value = np.diag(np.ones(m))\n",
    "prob.param_dict['D_sqrt'].value = np.diag(np.ones(n))\n",
    "prob.param_dict['k_tc'].value = kappa_tc/gamma\n",
    "prob.param_dict['k_sh'].value = kappa_sh/gamma\n",
    "prob.param_dict['w_prev'].value = np.zeros(n)\n",
    "prob.param_dict['L'].value = 1.6\n",
    "\n",
    "# solve problem conventionally\n",
    "t0 = time.time()\n",
    "# CVXPY chooses eps_abs=eps_rel=1e-5, max_iter=10000, polish=True by default,\n",
    "# however, we choose the OSQP default values here, as they are used for code generation as well\n",
    "val = prob.solve(eps_abs=1e-3, eps_rel=1e-3, max_iter=4000, polish=False)\n",
    "t1 = time.time()\n",
    "print('\\nPython solve time:', 1000*(t1-t0), 'ms')\n",
    "print('Python objective function value:', val)\n",
    "\n",
    "# solve problem with C code via python wrapper\n",
    "prob.register_solve('CPG', cpg_solve)\n",
    "t0 = time.time()\n",
    "val = prob.solve(method='CPG')\n",
    "t1 = time.time()\n",
    "print('\\nC solve time:', 1000*(t1-t0), 'ms')\n",
    "print('C objective function value:', val)"
   ]
  },
  {
   "cell_type": "markdown",
   "metadata": {},
   "source": [
    "### References\n",
    "\n",
    "\\[1\\] Victor Ng, Robert F. Engle, Michael Rothschild,\n",
    "A multi-dynamic-factor model for stock returns,\n",
    "Journal of Econometrics,\n",
    "Volume 52, Issues 1–2,\n",
    "1992,\n",
    "Pages 245-266,\n",
    "ISSN 0304-4076,\n",
    "https://doi.org/10.1016/0304-4076(92)90072-Y.\n",
    "(https://www.sciencedirect.com/science/article/pii/030440769290072Y)"
   ]
  }
 ],
 "metadata": {
  "kernelspec": {
   "display_name": "test",
   "language": "python",
   "name": "test"
  },
  "language_info": {
   "codemirror_mode": {
    "name": "ipython",
    "version": 3
   },
   "file_extension": ".py",
   "mimetype": "text/x-python",
   "name": "python",
   "nbconvert_exporter": "python",
   "pygments_lexer": "ipython3",
   "version": "3.9.7"
  }
 },
 "nbformat": 4,
 "nbformat_minor": 4
}
