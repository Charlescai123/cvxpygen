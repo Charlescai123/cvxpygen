{
 "cells": [
  {
   "cell_type": "code",
   "execution_count": 1,
   "id": "205cebc7-5f8a-4db1-8c9c-3aa2444d4695",
   "metadata": {},
   "outputs": [],
   "source": [
    "n = 6\n",
    "\n",
    "def get_index(r, c):\n",
    "\n",
    "    return c * (2 * n - c - 3) // 2 + r - 1"
   ]
  },
  {
   "cell_type": "code",
   "execution_count": 3,
   "id": "daf05727-c321-4cfd-be3a-7047ab09225b",
   "metadata": {},
   "outputs": [
    {
     "data": {
      "text/plain": [
       "14"
      ]
     },
     "execution_count": 3,
     "metadata": {},
     "output_type": "execute_result"
    }
   ],
   "source": [
    "get_index(5, 4)"
   ]
  },
  {
   "cell_type": "code",
   "execution_count": null,
   "id": "1e0a0a86-23df-4a37-89a5-e5a84d94e173",
   "metadata": {},
   "outputs": [],
   "source": []
  }
 ],
 "metadata": {
  "kernelspec": {
   "display_name": "diff_kernel",
   "language": "python",
   "name": "diff_kernel"
  },
  "language_info": {
   "codemirror_mode": {
    "name": "ipython",
    "version": 3
   },
   "file_extension": ".py",
   "mimetype": "text/x-python",
   "name": "python",
   "nbconvert_exporter": "python",
   "pygments_lexer": "ipython3",
   "version": "3.11.7"
  }
 },
 "nbformat": 4,
 "nbformat_minor": 5
}
