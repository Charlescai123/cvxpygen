{
 "cells": [
  {
   "cell_type": "markdown",
   "metadata": {},
   "source": [
    "## Actuator Control Allocation Example\n",
    "\n",
    "When controlling physical systems like spacecraft or automobiles, the controller commands a desired control input $u \\in \\mathbb{R}^m$, which might be a thrust vector, for example. \n",
    "\n",
    "Usually, multiple atuators are available to produce this control input. The vector $x \\in \\mathbb{R}^n$ contains the single actuator input values in its components. If $n > m$ and the actuators are in general position, we call the system \"over-actuated\", since there are many realizations of $x$ that result in the same value of $u$ via the linear mapping $A$. \n",
    "\n",
    "Having this freedom of choice, we want to minimize energy consumption, modeled as $\\kappa^\\intercal | x |$ (with $\\kappa \\geq 0$), while discouraging rapid changes of the actuation values, i.e., $\\Vert x-x^\\mathrm{prev} \\Vert_2^2$ with $x^\\mathrm{prev}$ being the actuation of the previous time step. Given the bounds $x^\\mathrm{min/max}$ on $x$, there might be cases when the desired control input $u$ is infeasible. Hence, we only softly penalize deviations between desired and actual control input with the cost term $\\Vert A x - u \\Vert_2^2$. The resulting optimization problem is the following:\n",
    "\n",
    "\\begin{align}\n",
    "\\min_{x}. \\quad &\\Vert A x - u \\Vert_2^2  + \\lambda^\\mathrm{sm} \\Vert x-x^\\mathrm{prev} \\Vert_2^2 + \\kappa^\\intercal | x |\\\\\n",
    "\\text{s.t.} \\quad &x^\\mathrm{min} \\leq x \\leq x^\\mathrm{max}\n",
    "\\end{align}\n",
    "\n",
    "We perform an epigraph reformulation to obtain a quadratic objective function:\n",
    "\n",
    "\\begin{align}\n",
    "\\min_{x, t}. \\quad &\\Vert A x - u \\Vert_2^2  + \\lambda^\\mathrm{sm} \\Vert x-x^\\mathrm{prev} \\Vert_2^2 + \\kappa^\\intercal t\\\\\n",
    "\\text{s.t.} \\quad &x^\\mathrm{min} \\leq x \\leq x^\\mathrm{max} \\\\\n",
    "&| x | \\leq t\n",
    "\\end{align}\n",
    "\n",
    "Let's define the corresponding CVXPY problem:"
   ]
  },
  {
   "cell_type": "code",
   "execution_count": 4,
   "metadata": {},
   "outputs": [],
   "source": [
    "import cvxpy as cp\n",
    "\n",
    "# define dimensions\n",
    "n, m = 3, 4\n",
    "\n",
    "# define variables\n",
    "x = cp.Variable(n, name='x')\n",
    "t = cp.Variable(n, name='t')\n",
    "\n",
    "# define parameters\n",
    "A = cp.Parameter((m, n), name='A')\n",
    "u = cp.Parameter(m, name='u')\n",
    "lamb_sm = cp.Parameter(nonneg=True, name='lamb_sm')\n",
    "kappa = cp.Parameter(n, name='kappa')\n",
    "x_prev = cp.Parameter(n, name='x_prev')\n",
    "x_min = cp.Parameter(n, name='x_min')\n",
    "x_max = cp.Parameter(n, name='x_max')\n",
    "\n",
    "# define objective\n",
    "objective = cp.Minimize(cp.sum_squares(A@x-u) + lamb_sm*cp.sum_squares(x-x_prev) + kappa@t)\n",
    "\n",
    "# define constraints\n",
    "constraints = [x_min <= x, x <= x_max, cp.abs(x) <= t]\n",
    "\n",
    "# define problem\n",
    "problem = cp.Problem(objective, constraints)"
   ]
  },
  {
   "cell_type": "markdown",
   "metadata": {},
   "source": [
    "Assign parameter values and solve the problem."
   ]
  },
  {
   "cell_type": "code",
   "execution_count": null,
   "metadata": {},
   "outputs": [],
   "source": [
    "# TODO\n",
    "\n",
    "val = problem.solve()"
   ]
  },
  {
   "cell_type": "markdown",
   "metadata": {},
   "source": [
    "Generating C source for the problem is as easy as:"
   ]
  },
  {
   "cell_type": "code",
   "execution_count": null,
   "metadata": {},
   "outputs": [],
   "source": [
    "import sys\n",
    "sys.path.append('../')\n",
    "import cvxpygen as cpg\n",
    "\n",
    "cpg.generate_code(problem, code_dir='actuator_code')"
   ]
  },
  {
   "cell_type": "markdown",
   "metadata": {},
   "source": [
    "Now, you can use a python wrapper around the generated code as a custom CVXPY solve method:"
   ]
  },
  {
   "cell_type": "code",
   "execution_count": null,
   "metadata": {},
   "outputs": [],
   "source": [
    "from actuator_code.cpg_solver import cpg_solve\n",
    "import numpy as np\n",
    "import pickle\n",
    "import time\n",
    "\n",
    "# load the serialized problem formulation\n",
    "with open('actuator_code/problem.pickle', 'rb') as f:\n",
    "    prob = pickle.load(f)\n",
    "\n",
    "# assign parameter values\n",
    "# TODO\n",
    "\n",
    "# solve problem conventionally\n",
    "t0 = time.time()\n",
    "# CVXPY chooses eps_abs=eps_rel=1e-5, max_iter=10000, polish=True by default,\n",
    "# however, we choose the OSQP default values here, as they are used for code generation as well\n",
    "val = prob.solve(eps_abs=1e-3, eps_rel=1e-3, max_iter=4000, polish=False)\n",
    "t1 = time.time()\n",
    "print('\\nPython solve time:', 1000*(t1-t0), 'ms')\n",
    "print('Python objective function value:', val)\n",
    "\n",
    "# solve problem with C code via python wrapper\n",
    "prob.register_solve('CPG', cpg_solve)\n",
    "t0 = time.time()\n",
    "val = prob.solve(method='CPG')\n",
    "t1 = time.time()\n",
    "print('\\nC solve time:', 1000*(t1-t0), 'ms')\n",
    "print('C objective function value:', val)"
   ]
  }
 ],
 "metadata": {
  "kernelspec": {
   "display_name": "test",
   "language": "python",
   "name": "test"
  },
  "language_info": {
   "codemirror_mode": {
    "name": "ipython",
    "version": 3
   },
   "file_extension": ".py",
   "mimetype": "text/x-python",
   "name": "python",
   "nbconvert_exporter": "python",
   "pygments_lexer": "ipython3",
   "version": "3.9.7"
  }
 },
 "nbformat": 4,
 "nbformat_minor": 4
}
